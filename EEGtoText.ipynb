{
 "cells": [
  {
   "cell_type": "markdown",
   "metadata": {},
   "source": [
    "# First look at the data"
   ]
  },
  {
   "cell_type": "code",
   "execution_count": 2,
   "metadata": {},
   "outputs": [],
   "source": [
    "from scipy.io import loadmat\n",
    "import matplotlib.pyplot as plt\n",
    "import seaborn as sns\n",
    "import numpy as np\n",
    "import pandas as pd\n",
    "import io_utils as iu\n",
    "from importlib import reload\n",
    "reload(iu)\n",
    "\n",
    "%matplotlib inline"
   ]
  },
  {
   "cell_type": "markdown",
   "metadata": {},
   "source": [
    "## The Text Data"
   ]
  },
  {
   "cell_type": "code",
   "execution_count": 3,
   "metadata": {},
   "outputs": [],
   "source": [
    "words, onsets, offsets, _ = iu.load_text()"
   ]
  },
  {
   "cell_type": "code",
   "execution_count": 4,
   "metadata": {},
   "outputs": [],
   "source": [
    "word_keys, word_counts = iu.word_histogram(words)"
   ]
  },
  {
   "cell_type": "code",
   "execution_count": 21,
   "metadata": {},
   "outputs": [
    {
     "name": "stdout",
     "output_type": "stream",
     "text": [
      "There are 1508 unique words. And 5459 words in total.\n",
      "Common words take up 1008 which is about 1/5 of the data...\n"
     ]
    },
    {
     "data": {
      "image/png": "[encoded data removed]",
      "text/plain": [
       "<Figure size 1080x360 with 2 Axes>"
      ]
     },
     "metadata": {
      "needs_background": "light"
     },
     "output_type": "display_data"
    }
   ],
   "source": [
    "wc_threshold =  30\n",
    "fig, ax = plt.subplots(1, 2, figsize=(15, 5))\n",
    "ax[0].hist(word_counts)\n",
    "ax[0].set_title('Word counts')\n",
    "sns.barplot(x=word_counts[word_counts > wc_threshold], y=word_keys[word_counts>wc_threshold], ax=ax[1]);\n",
    "print(f'There are {len(word_keys)} unique words. And {sum(word_counts)} words in total.'\n",
    "      +f'\\nCommon words take up {sum(word_counts[word_counts > wc_threshold])} which is about 1/5 of the data...')"
   ]
  },
  {
   "cell_type": "markdown",
   "metadata": {},
   "source": [
    "Most words only occur one time, which is not the best thing. "
   ]
  },
  {
   "cell_type": "code",
   "execution_count": 22,
   "metadata": {},
   "outputs": [],
   "source": [
    "word_samples_ons = iu.words_to_onsets(onsets, words, word_counts, word_keys)\n",
    "word_samples_ofs = iu.words_to_onsets(offsets, words, word_counts, word_keys)"
   ]
  },
  {
   "cell_type": "code",
   "execution_count": 49,
   "metadata": {},
   "outputs": [
    {
     "name": "stdout",
     "output_type": "stream",
     "text": [
      "The longest period between onset and off set of a word is 86 samples. Which is 0.67s\n"
     ]
    }
   ],
   "source": [
    "diff = []\n",
    "for word in word_samples_ons.keys():\n",
    "    w_diff = []\n",
    "    tmp_on = word_samples_ons[word]\n",
    "    tmp_of = word_samples_ofs[word]\n",
    "    for (tn, tf) in zip(tmp_on, tmp_of):\n",
    "        if len(tn) != 0:\n",
    "            w_diff.append(np.max(tf - tn))\n",
    "        else:\n",
    "            w_diff.append(0)\n",
    "\n",
    "    diff.append(np.max(w_diff))\n",
    "    \n",
    "print(f'The longest period between onset and off set of a word is {np.max(diff)} samples. Which is {np.max(diff)/128:4.2f}s')"
   ]
  },
  {
   "cell_type": "markdown",
   "metadata": {},
   "source": [
    "Even using simple classification of words (i.e. multiclass of 16 samples) will be quite hard. Similarly looking at epoching the data to max periods will only be the first step. \n",
    "But we can now epoch data based on the ``word_samples_ons`` dictionary. The onsets for each run and for each target word are in there. "
   ]
  },
  {
   "cell_type": "markdown",
   "metadata": {},
   "source": [
    "## Preprocessing EEG"
   ]
  },
  {
   "cell_type": "code",
   "execution_count": 52,
   "metadata": {},
   "outputs": [],
   "source": [
    "# A single data set:\n",
    "participant = 'Subject1'\n",
    "eeg, mastoids = iu.load_one_subject(participant)"
   ]
  },
  {
   "cell_type": "code",
   "execution_count": 60,
   "metadata": {},
   "outputs": [
    {
     "name": "stdout",
     "output_type": "stream",
     "text": [
      "The first run for example has a duration of 179.29s\n"
     ]
    }
   ],
   "source": [
    "print(f'The first run for example has a duration of {eeg[0].shape[0]/128:4.2f}s')"
   ]
  }
 ],
 "metadata": {
  "kernelspec": {
   "display_name": "Python (mypy)",
   "language": "python",
   "name": "mypy"
  },
  "language_info": {
   "codemirror_mode": {
    "name": "ipython",
    "version": 3
   },
   "file_extension": ".py",
   "mimetype": "text/x-python",
   "name": "python",
   "nbconvert_exporter": "python",
   "pygments_lexer": "ipython3",
   "version": "3.6.7"
  }
 },
 "nbformat": 4,
 "nbformat_minor": 2
}
